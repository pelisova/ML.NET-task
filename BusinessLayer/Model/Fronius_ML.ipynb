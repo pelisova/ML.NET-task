{
 "cells": [
  {
   "cell_type": "code",
   "execution_count": 174,
   "id": "8239883e",
   "metadata": {},
   "outputs": [],
   "source": [
    "import pandas as pd"
   ]
  },
  {
   "cell_type": "code",
   "execution_count": 175,
   "id": "7227c16c",
   "metadata": {},
   "outputs": [
    {
     "data": {
      "text/html": [
       "<div>\n",
       "<style scoped>\n",
       "    .dataframe tbody tr th:only-of-type {\n",
       "        vertical-align: middle;\n",
       "    }\n",
       "\n",
       "    .dataframe tbody tr th {\n",
       "        vertical-align: top;\n",
       "    }\n",
       "\n",
       "    .dataframe thead th {\n",
       "        text-align: right;\n",
       "    }\n",
       "</style>\n",
       "<table border=\"1\" class=\"dataframe\">\n",
       "  <thead>\n",
       "    <tr style=\"text-align: right;\">\n",
       "      <th></th>\n",
       "      <th>PvSystemId</th>\n",
       "      <th>Description</th>\n",
       "      <th>StatusCode</th>\n",
       "      <th>Connected</th>\n",
       "      <th>Riso</th>\n",
       "      <th>PerformanceRatio</th>\n",
       "      <th>Temp</th>\n",
       "      <th>IsHealthy</th>\n",
       "    </tr>\n",
       "  </thead>\n",
       "  <tbody>\n",
       "    <tr>\n",
       "      <th>0</th>\n",
       "      <td>fcc00435-91a0-9ed8-98bb-2fbc357ce3b6</td>\n",
       "      <td>Use the auxiliary EXE card, then you can input...</td>\n",
       "      <td>106</td>\n",
       "      <td>1</td>\n",
       "      <td>1</td>\n",
       "      <td>0.280170</td>\n",
       "      <td>27</td>\n",
       "      <td>False</td>\n",
       "    </tr>\n",
       "    <tr>\n",
       "      <th>1</th>\n",
       "      <td>0c53fa00-53f9-69d0-a7a6-30463e5e5ad8</td>\n",
       "      <td>If we navigate the port, we can get to the SMS...</td>\n",
       "      <td>45</td>\n",
       "      <td>0</td>\n",
       "      <td>1</td>\n",
       "      <td>0.358354</td>\n",
       "      <td>2</td>\n",
       "      <td>False</td>\n",
       "    </tr>\n",
       "    <tr>\n",
       "      <th>2</th>\n",
       "      <td>ca68c058-fd88-8a4b-3887-f25b6c2ef743</td>\n",
       "      <td>If we program the hard drive, we can get to th...</td>\n",
       "      <td>36</td>\n",
       "      <td>0</td>\n",
       "      <td>0</td>\n",
       "      <td>0.538403</td>\n",
       "      <td>29</td>\n",
       "      <td>False</td>\n",
       "    </tr>\n",
       "    <tr>\n",
       "      <th>3</th>\n",
       "      <td>4df37afc-d9a1-3718-5073-fd24b93e7d69</td>\n",
       "      <td>We need to parse the open-source EXE matrix!</td>\n",
       "      <td>117</td>\n",
       "      <td>1</td>\n",
       "      <td>0</td>\n",
       "      <td>0.209437</td>\n",
       "      <td>26</td>\n",
       "      <td>False</td>\n",
       "    </tr>\n",
       "    <tr>\n",
       "      <th>4</th>\n",
       "      <td>b948b18e-b201-ec4d-9e2c-7f75c35b1723</td>\n",
       "      <td>We need to compress the primary EXE bus!</td>\n",
       "      <td>91</td>\n",
       "      <td>1</td>\n",
       "      <td>1</td>\n",
       "      <td>0.860023</td>\n",
       "      <td>5</td>\n",
       "      <td>False</td>\n",
       "    </tr>\n",
       "    <tr>\n",
       "      <th>...</th>\n",
       "      <td>...</td>\n",
       "      <td>...</td>\n",
       "      <td>...</td>\n",
       "      <td>...</td>\n",
       "      <td>...</td>\n",
       "      <td>...</td>\n",
       "      <td>...</td>\n",
       "      <td>...</td>\n",
       "    </tr>\n",
       "    <tr>\n",
       "      <th>99995</th>\n",
       "      <td>a072121c-f92a-a2b2-db7d-58086955137c</td>\n",
       "      <td>The AI bandwidth is down, reboot the redundant...</td>\n",
       "      <td>19</td>\n",
       "      <td>0</td>\n",
       "      <td>1</td>\n",
       "      <td>0.495220</td>\n",
       "      <td>23</td>\n",
       "      <td>False</td>\n",
       "    </tr>\n",
       "    <tr>\n",
       "      <th>99996</th>\n",
       "      <td>13541ab4-f3d0-8fb3-2c8e-b8c83adf8282</td>\n",
       "      <td>Try to transmit the PNG feed, maybe it will tr...</td>\n",
       "      <td>103</td>\n",
       "      <td>0</td>\n",
       "      <td>0</td>\n",
       "      <td>0.580165</td>\n",
       "      <td>1</td>\n",
       "      <td>False</td>\n",
       "    </tr>\n",
       "    <tr>\n",
       "      <th>99997</th>\n",
       "      <td>e500898d-669e-bef1-79a6-265ef33fccea</td>\n",
       "      <td>I'll generate the neural SQL driver, that shou...</td>\n",
       "      <td>87</td>\n",
       "      <td>0</td>\n",
       "      <td>0</td>\n",
       "      <td>0.643387</td>\n",
       "      <td>11</td>\n",
       "      <td>False</td>\n",
       "    </tr>\n",
       "    <tr>\n",
       "      <th>99998</th>\n",
       "      <td>39a05bab-f015-3781-2876-a26370f53ab9</td>\n",
       "      <td>The TCP panel is down, copy the neural panel s...</td>\n",
       "      <td>170</td>\n",
       "      <td>0</td>\n",
       "      <td>1</td>\n",
       "      <td>0.898279</td>\n",
       "      <td>-14</td>\n",
       "      <td>False</td>\n",
       "    </tr>\n",
       "    <tr>\n",
       "      <th>99999</th>\n",
       "      <td>81adb408-aa0d-a7ad-9a06-9777b3e3fc18</td>\n",
       "      <td>I'll synthesize the open-source FTP array, tha...</td>\n",
       "      <td>113</td>\n",
       "      <td>0</td>\n",
       "      <td>1</td>\n",
       "      <td>0.675911</td>\n",
       "      <td>-3</td>\n",
       "      <td>False</td>\n",
       "    </tr>\n",
       "  </tbody>\n",
       "</table>\n",
       "<p>100000 rows × 8 columns</p>\n",
       "</div>"
      ],
      "text/plain": [
       "                                 PvSystemId  \\\n",
       "0      fcc00435-91a0-9ed8-98bb-2fbc357ce3b6   \n",
       "1      0c53fa00-53f9-69d0-a7a6-30463e5e5ad8   \n",
       "2      ca68c058-fd88-8a4b-3887-f25b6c2ef743   \n",
       "3      4df37afc-d9a1-3718-5073-fd24b93e7d69   \n",
       "4      b948b18e-b201-ec4d-9e2c-7f75c35b1723   \n",
       "...                                     ...   \n",
       "99995  a072121c-f92a-a2b2-db7d-58086955137c   \n",
       "99996  13541ab4-f3d0-8fb3-2c8e-b8c83adf8282   \n",
       "99997  e500898d-669e-bef1-79a6-265ef33fccea   \n",
       "99998  39a05bab-f015-3781-2876-a26370f53ab9   \n",
       "99999  81adb408-aa0d-a7ad-9a06-9777b3e3fc18   \n",
       "\n",
       "                                             Description  StatusCode  \\\n",
       "0      Use the auxiliary EXE card, then you can input...         106   \n",
       "1      If we navigate the port, we can get to the SMS...          45   \n",
       "2      If we program the hard drive, we can get to th...          36   \n",
       "3           We need to parse the open-source EXE matrix!         117   \n",
       "4               We need to compress the primary EXE bus!          91   \n",
       "...                                                  ...         ...   \n",
       "99995  The AI bandwidth is down, reboot the redundant...          19   \n",
       "99996  Try to transmit the PNG feed, maybe it will tr...         103   \n",
       "99997  I'll generate the neural SQL driver, that shou...          87   \n",
       "99998  The TCP panel is down, copy the neural panel s...         170   \n",
       "99999  I'll synthesize the open-source FTP array, tha...         113   \n",
       "\n",
       "       Connected  Riso  PerformanceRatio  Temp  IsHealthy  \n",
       "0              1     1          0.280170    27      False  \n",
       "1              0     1          0.358354     2      False  \n",
       "2              0     0          0.538403    29      False  \n",
       "3              1     0          0.209437    26      False  \n",
       "4              1     1          0.860023     5      False  \n",
       "...          ...   ...               ...   ...        ...  \n",
       "99995          0     1          0.495220    23      False  \n",
       "99996          0     0          0.580165     1      False  \n",
       "99997          0     0          0.643387    11      False  \n",
       "99998          0     1          0.898279   -14      False  \n",
       "99999          0     1          0.675911    -3      False  \n",
       "\n",
       "[100000 rows x 8 columns]"
      ]
     },
     "execution_count": 175,
     "metadata": {},
     "output_type": "execute_result"
    }
   ],
   "source": [
    "df = pd.read_csv(\"C:/Users/Anja/Fronius/service_messages.csv\")\n",
    "df"
   ]
  },
  {
   "cell_type": "code",
   "execution_count": 177,
   "id": "15f647f0",
   "metadata": {},
   "outputs": [
    {
     "data": {
      "text/plain": [
       "0"
      ]
     },
     "execution_count": 177,
     "metadata": {},
     "output_type": "execute_result"
    }
   ],
   "source": [
    "df.isna()\n",
    "sum(df[\"StatusCode\"].isnull())\n",
    "sum(df[\"Connected\"].isnull())\n",
    "sum(df[\"Riso\"].isnull())\n",
    "sum(df[\"PerformanceRatio\"].isnull())\n",
    "sum(df[\"Temp\"].isnull())\n",
    "\n",
    "# After some analysis, I realised that dataset is fullfil and doesn't have missing or null values.\n",
    "# ALso, PvSystemId, Description (they are unique) are not very relevant information for our Binary Classification."
   ]
  },
  {
   "cell_type": "code",
   "execution_count": 182,
   "id": "55a40aa6",
   "metadata": {},
   "outputs": [
    {
     "data": {
      "text/html": [
       "<div>\n",
       "<style scoped>\n",
       "    .dataframe tbody tr th:only-of-type {\n",
       "        vertical-align: middle;\n",
       "    }\n",
       "\n",
       "    .dataframe tbody tr th {\n",
       "        vertical-align: top;\n",
       "    }\n",
       "\n",
       "    .dataframe thead th {\n",
       "        text-align: right;\n",
       "    }\n",
       "</style>\n",
       "<table border=\"1\" class=\"dataframe\">\n",
       "  <thead>\n",
       "    <tr style=\"text-align: right;\">\n",
       "      <th></th>\n",
       "      <th>StatusCode</th>\n",
       "      <th>Connected</th>\n",
       "      <th>Riso</th>\n",
       "      <th>PerformanceRatio</th>\n",
       "      <th>Temp</th>\n",
       "    </tr>\n",
       "  </thead>\n",
       "  <tbody>\n",
       "    <tr>\n",
       "      <th>0</th>\n",
       "      <td>0.098678</td>\n",
       "      <td>1</td>\n",
       "      <td>1</td>\n",
       "      <td>0.280170</td>\n",
       "      <td>0.968979</td>\n",
       "    </tr>\n",
       "    <tr>\n",
       "      <th>1</th>\n",
       "      <td>-0.957766</td>\n",
       "      <td>0</td>\n",
       "      <td>1</td>\n",
       "      <td>0.358354</td>\n",
       "      <td>-0.453619</td>\n",
       "    </tr>\n",
       "    <tr>\n",
       "      <th>2</th>\n",
       "      <td>-1.113635</td>\n",
       "      <td>0</td>\n",
       "      <td>0</td>\n",
       "      <td>0.538403</td>\n",
       "      <td>1.082787</td>\n",
       "    </tr>\n",
       "    <tr>\n",
       "      <th>3</th>\n",
       "      <td>0.289185</td>\n",
       "      <td>1</td>\n",
       "      <td>0</td>\n",
       "      <td>0.209437</td>\n",
       "      <td>0.912075</td>\n",
       "    </tr>\n",
       "    <tr>\n",
       "      <th>4</th>\n",
       "      <td>-0.161103</td>\n",
       "      <td>1</td>\n",
       "      <td>1</td>\n",
       "      <td>0.860023</td>\n",
       "      <td>-0.282907</td>\n",
       "    </tr>\n",
       "    <tr>\n",
       "      <th>...</th>\n",
       "      <td>...</td>\n",
       "      <td>...</td>\n",
       "      <td>...</td>\n",
       "      <td>...</td>\n",
       "      <td>...</td>\n",
       "    </tr>\n",
       "    <tr>\n",
       "      <th>99995</th>\n",
       "      <td>-1.408054</td>\n",
       "      <td>0</td>\n",
       "      <td>1</td>\n",
       "      <td>0.495220</td>\n",
       "      <td>0.741364</td>\n",
       "    </tr>\n",
       "    <tr>\n",
       "      <th>99996</th>\n",
       "      <td>0.046722</td>\n",
       "      <td>0</td>\n",
       "      <td>0</td>\n",
       "      <td>0.580165</td>\n",
       "      <td>-0.510523</td>\n",
       "    </tr>\n",
       "    <tr>\n",
       "      <th>99997</th>\n",
       "      <td>-0.230378</td>\n",
       "      <td>0</td>\n",
       "      <td>0</td>\n",
       "      <td>0.643387</td>\n",
       "      <td>0.058517</td>\n",
       "    </tr>\n",
       "    <tr>\n",
       "      <th>99998</th>\n",
       "      <td>1.207079</td>\n",
       "      <td>0</td>\n",
       "      <td>1</td>\n",
       "      <td>0.898279</td>\n",
       "      <td>-1.364081</td>\n",
       "    </tr>\n",
       "    <tr>\n",
       "      <th>99999</th>\n",
       "      <td>0.219910</td>\n",
       "      <td>0</td>\n",
       "      <td>1</td>\n",
       "      <td>0.675911</td>\n",
       "      <td>-0.738138</td>\n",
       "    </tr>\n",
       "  </tbody>\n",
       "</table>\n",
       "<p>100000 rows × 5 columns</p>\n",
       "</div>"
      ],
      "text/plain": [
       "       StatusCode  Connected  Riso  PerformanceRatio      Temp\n",
       "0        0.098678          1     1          0.280170  0.968979\n",
       "1       -0.957766          0     1          0.358354 -0.453619\n",
       "2       -1.113635          0     0          0.538403  1.082787\n",
       "3        0.289185          1     0          0.209437  0.912075\n",
       "4       -0.161103          1     1          0.860023 -0.282907\n",
       "...           ...        ...   ...               ...       ...\n",
       "99995   -1.408054          0     1          0.495220  0.741364\n",
       "99996    0.046722          0     0          0.580165 -0.510523\n",
       "99997   -0.230378          0     0          0.643387  0.058517\n",
       "99998    1.207079          0     1          0.898279 -1.364081\n",
       "99999    0.219910          0     1          0.675911 -0.738138\n",
       "\n",
       "[100000 rows x 5 columns]"
      ]
     },
     "execution_count": 182,
     "metadata": {},
     "output_type": "execute_result"
    }
   ],
   "source": [
    "# Here, X (training) dataset and Y (testing) dataset will be created.\n",
    "# Status code values should be in range 0-1 (for better performance) as well as values of Temp column.\n",
    "# Stanadard Scaling will take care for that.\n",
    "from sklearn.preprocessing import StandardScaler\n",
    "\n",
    "X = df.drop(['PvSystemId', 'Description', 'IsHealthy'], axis='columns')\n",
    "X_StatusCode = StandardScaler().fit_transform(X[['StatusCode']])\n",
    "X_Temp = StandardScaler().fit_transform(X[['Temp']])\n",
    "X['StatusCode'] = X_StatusCode\n",
    "X['Temp'] = X_Temp\n",
    "X #traing dataset"
   ]
  },
  {
   "cell_type": "code",
   "execution_count": 183,
   "id": "f8f2474f",
   "metadata": {},
   "outputs": [
    {
     "data": {
      "text/html": [
       "<div>\n",
       "<style scoped>\n",
       "    .dataframe tbody tr th:only-of-type {\n",
       "        vertical-align: middle;\n",
       "    }\n",
       "\n",
       "    .dataframe tbody tr th {\n",
       "        vertical-align: top;\n",
       "    }\n",
       "\n",
       "    .dataframe thead th {\n",
       "        text-align: right;\n",
       "    }\n",
       "</style>\n",
       "<table border=\"1\" class=\"dataframe\">\n",
       "  <thead>\n",
       "    <tr style=\"text-align: right;\">\n",
       "      <th></th>\n",
       "      <th>IsHealthy</th>\n",
       "    </tr>\n",
       "  </thead>\n",
       "  <tbody>\n",
       "    <tr>\n",
       "      <th>0</th>\n",
       "      <td>0</td>\n",
       "    </tr>\n",
       "    <tr>\n",
       "      <th>1</th>\n",
       "      <td>0</td>\n",
       "    </tr>\n",
       "    <tr>\n",
       "      <th>2</th>\n",
       "      <td>0</td>\n",
       "    </tr>\n",
       "    <tr>\n",
       "      <th>3</th>\n",
       "      <td>0</td>\n",
       "    </tr>\n",
       "    <tr>\n",
       "      <th>4</th>\n",
       "      <td>0</td>\n",
       "    </tr>\n",
       "    <tr>\n",
       "      <th>...</th>\n",
       "      <td>...</td>\n",
       "    </tr>\n",
       "    <tr>\n",
       "      <th>99995</th>\n",
       "      <td>0</td>\n",
       "    </tr>\n",
       "    <tr>\n",
       "      <th>99996</th>\n",
       "      <td>0</td>\n",
       "    </tr>\n",
       "    <tr>\n",
       "      <th>99997</th>\n",
       "      <td>0</td>\n",
       "    </tr>\n",
       "    <tr>\n",
       "      <th>99998</th>\n",
       "      <td>0</td>\n",
       "    </tr>\n",
       "    <tr>\n",
       "      <th>99999</th>\n",
       "      <td>0</td>\n",
       "    </tr>\n",
       "  </tbody>\n",
       "</table>\n",
       "<p>100000 rows × 1 columns</p>\n",
       "</div>"
      ],
      "text/plain": [
       "       IsHealthy\n",
       "0              0\n",
       "1              0\n",
       "2              0\n",
       "3              0\n",
       "4              0\n",
       "...          ...\n",
       "99995          0\n",
       "99996          0\n",
       "99997          0\n",
       "99998          0\n",
       "99999          0\n",
       "\n",
       "[100000 rows x 1 columns]"
      ]
     },
     "execution_count": 183,
     "metadata": {},
     "output_type": "execute_result"
    }
   ],
   "source": [
    "# To create testing or our target dataset, LabelEncoider will be applied for converting boolean values into integers (0 & 1).\n",
    "from sklearn import preprocessing\n",
    "\n",
    "le = preprocessing.LabelEncoder()\n",
    "isHealthy = le.fit_transform(df['IsHealthy'])\n",
    "Y = df.drop(columns=['PvSystemId', 'Description', 'StatusCode', 'Connected', 'Riso', 'PerformanceRatio', 'Temp'])\n",
    "Y['IsHealthy'] = isHealthy\n",
    "#sum(Y['IsHealthy']==1) result: 10069\n",
    "Y # target or testing dataset"
   ]
  },
  {
   "cell_type": "code",
   "execution_count": 195,
   "id": "e04bc4a1",
   "metadata": {},
   "outputs": [],
   "source": [
    "from sklearn import svm\n",
    "from sklearn.ensemble import RandomForestClassifier\n",
    "from sklearn.linear_model import LogisticRegression\n",
    "\n",
    "model_params = {\n",
    "    'svm': {\n",
    "        'model': svm.SVC(gamma='auto'),\n",
    "        'params' : {\n",
    "            'C': [1,10,20],\n",
    "            'kernel': ['rbf','linear']\n",
    "        }  \n",
    "    },\n",
    "    'random_forest': {\n",
    "        'model': RandomForestClassifier(),\n",
    "        'params' : {\n",
    "            'n_estimators': [1,5,10, 20, 30, 40, 50]\n",
    "        }\n",
    "    },\n",
    "    'logistic_regression' : {\n",
    "        'model': LogisticRegression(solver='liblinear',multi_class='auto'),\n",
    "        'params': {\n",
    "            'C': [1,5,10]\n",
    "        }\n",
    "    }\n",
    "}"
   ]
  },
  {
   "cell_type": "code",
   "execution_count": 196,
   "id": "71efec8d",
   "metadata": {},
   "outputs": [
    {
     "data": {
      "text/html": [
       "<div>\n",
       "<style scoped>\n",
       "    .dataframe tbody tr th:only-of-type {\n",
       "        vertical-align: middle;\n",
       "    }\n",
       "\n",
       "    .dataframe tbody tr th {\n",
       "        vertical-align: top;\n",
       "    }\n",
       "\n",
       "    .dataframe thead th {\n",
       "        text-align: right;\n",
       "    }\n",
       "</style>\n",
       "<table border=\"1\" class=\"dataframe\">\n",
       "  <thead>\n",
       "    <tr style=\"text-align: right;\">\n",
       "      <th></th>\n",
       "      <th>model</th>\n",
       "      <th>best_score</th>\n",
       "      <th>best_params</th>\n",
       "    </tr>\n",
       "  </thead>\n",
       "  <tbody>\n",
       "    <tr>\n",
       "      <th>0</th>\n",
       "      <td>svm</td>\n",
       "      <td>0.97745</td>\n",
       "      <td>{'C': 20, 'kernel': 'rbf'}</td>\n",
       "    </tr>\n",
       "    <tr>\n",
       "      <th>1</th>\n",
       "      <td>random_forest</td>\n",
       "      <td>0.99008</td>\n",
       "      <td>{'n_estimators': 30}</td>\n",
       "    </tr>\n",
       "    <tr>\n",
       "      <th>2</th>\n",
       "      <td>logistic_regression</td>\n",
       "      <td>0.92174</td>\n",
       "      <td>{'C': 10}</td>\n",
       "    </tr>\n",
       "  </tbody>\n",
       "</table>\n",
       "</div>"
      ],
      "text/plain": [
       "                 model  best_score                 best_params\n",
       "0                  svm     0.97745  {'C': 20, 'kernel': 'rbf'}\n",
       "1        random_forest     0.99008        {'n_estimators': 30}\n",
       "2  logistic_regression     0.92174                   {'C': 10}"
      ]
     },
     "execution_count": 196,
     "metadata": {},
     "output_type": "execute_result"
    }
   ],
   "source": [
    "from sklearn.model_selection import GridSearchCV\n",
    "\n",
    "scores = []\n",
    "for model_name, mp in model_params.items():\n",
    "    clf =  GridSearchCV(mp['model'], mp['params'], cv=5, return_train_score=False)\n",
    "    clf.fit(X, Y.values.ravel())\n",
    "    scores.append({\n",
    "        'model': model_name,\n",
    "        'best_score': clf.best_score_,\n",
    "        'best_params': clf.best_params_\n",
    "    })\n",
    "    \n",
    "df = pd.DataFrame(scores,columns=['model','best_score','best_params'])\n",
    "df"
   ]
  },
  {
   "cell_type": "code",
   "execution_count": 203,
   "id": "86dea013",
   "metadata": {},
   "outputs": [
    {
     "data": {
      "text/plain": [
       "RandomForestClassifier(n_estimators=30)"
      ]
     },
     "execution_count": 203,
     "metadata": {},
     "output_type": "execute_result"
    }
   ],
   "source": [
    "# finally, I will implement and save RandomForestClassifier model for binary classification\n",
    "from sklearn.model_selection import train_test_split\n",
    "from sklearn.ensemble import RandomForestClassifier\n",
    "\n",
    "X_train, X_test, y_train, y_test = train_test_split(X, Y, test_size=0.2, random_state=42)\n",
    "rfc = RandomForestClassifier(n_estimators=30)\n",
    "rfc.fit(X_train, y_train.values.ravel())"
   ]
  },
  {
   "cell_type": "code",
   "execution_count": 198,
   "id": "e75afbdb",
   "metadata": {},
   "outputs": [
    {
     "data": {
      "text/plain": [
       "array([0, 1, 1, ..., 0, 0, 0], dtype=int64)"
      ]
     },
     "execution_count": 198,
     "metadata": {},
     "output_type": "execute_result"
    }
   ],
   "source": [
    "# prediction\n",
    "rfc.predict(X_test)"
   ]
  },
  {
   "cell_type": "code",
   "execution_count": 199,
   "id": "f232ee81",
   "metadata": {},
   "outputs": [
    {
     "data": {
      "text/plain": [
       "array([[1. , 0. ],\n",
       "       [0.2, 0.8],\n",
       "       [0. , 1. ],\n",
       "       ...,\n",
       "       [1. , 0. ],\n",
       "       [1. , 0. ],\n",
       "       [1. , 0. ]])"
      ]
     },
     "execution_count": 199,
     "metadata": {},
     "output_type": "execute_result"
    }
   ],
   "source": [
    "# predicition with probability\n",
    "rfc.predict_proba(X_test)"
   ]
  },
  {
   "cell_type": "code",
   "execution_count": 200,
   "id": "aa861328",
   "metadata": {},
   "outputs": [
    {
     "data": {
      "text/plain": [
       "0.98935"
      ]
     },
     "execution_count": 200,
     "metadata": {},
     "output_type": "execute_result"
    }
   ],
   "source": [
    "# Accuracy = TP+TN/TP+FP+FN+TN\n",
    "rfc.score(X_test, y_test)"
   ]
  },
  {
   "cell_type": "code",
   "execution_count": 201,
   "id": "28f1e37d",
   "metadata": {},
   "outputs": [
    {
     "data": {
      "text/plain": [
       "array([[17736,   200],\n",
       "       [   13,  2051]], dtype=int64)"
      ]
     },
     "execution_count": 201,
     "metadata": {},
     "output_type": "execute_result"
    }
   ],
   "source": [
    "# visualisation of confusion matrix\n",
    "from sklearn.metrics import confusion_matrix\n",
    "\n",
    "y_predicted = rfc.predict(X_test)\n",
    "cm = confusion_matrix(y_test, y_predicted)\n",
    "cm"
   ]
  },
  {
   "cell_type": "code",
   "execution_count": 202,
   "id": "54964bf3",
   "metadata": {},
   "outputs": [
    {
     "data": {
      "text/plain": [
       "Text(69.0, 0.5, 'Truth')"
      ]
     },
     "execution_count": 202,
     "metadata": {},
     "output_type": "execute_result"
    },
    {
     "data": {
      "image/png": "[encoded data removed]",
      "text/plain": [
       "<Figure size 720x504 with 2 Axes>"
      ]
     },
     "metadata": {
      "needs_background": "light"
     },
     "output_type": "display_data"
    }
   ],
   "source": [
    "import seaborn as sn\n",
    "import matplotlib.pyplot as plt\n",
    "\n",
    "plt.figure(figsize = (10,7))\n",
    "sn.heatmap(cm, annot=True)\n",
    "plt.xlabel('Predicted')\n",
    "plt.ylabel('Truth')"
   ]
  },
  {
   "cell_type": "code",
   "execution_count": 208,
   "id": "eea549ed",
   "metadata": {},
   "outputs": [
    {
     "data": {
      "text/plain": [
       "['model.sav']"
      ]
     },
     "execution_count": 208,
     "metadata": {},
     "output_type": "execute_result"
    }
   ],
   "source": [
    "# save the model to disk\n",
    "import joblib\n",
    "\n",
    "filename = 'model.sav'\n",
    "joblib.dump(rfc, filename)"
   ]
  },
  {
   "cell_type": "code",
   "execution_count": 209,
   "id": "6573ea1e",
   "metadata": {},
   "outputs": [],
   "source": [
    "import joblib\n",
    "model = joblib.load('model.sav')"
   ]
  },
  {
   "cell_type": "code",
   "execution_count": 210,
   "id": "4f198ffe",
   "metadata": {},
   "outputs": [
    {
     "data": {
      "text/plain": [
       "array([1], dtype=int64)"
      ]
     },
     "execution_count": 210,
     "metadata": {},
     "output_type": "execute_result"
    }
   ],
   "source": [
    "model.predict([[0.289185, 1, 0, 0.509437, 0.589185]])"
   ]
  },
  {
   "cell_type": "code",
   "execution_count": 27,
   "id": "7a4e24e3",
   "metadata": {},
   "outputs": [],
   "source": [
    "# Neural network could be considered as tool to increase accuracy of classification. \n",
    "# That network would have only one neuron on last output layer which be equal as binary classification."
   ]
  },
  {
   "cell_type": "code",
   "execution_count": 211,
   "id": "7e1603ec",
   "metadata": {},
   "outputs": [],
   "source": [
    "from skl2onnx import convert_sklearn\n",
    "from skl2onnx.common.data_types import FloatTensorType\n",
    "\n",
    "number_features = 5\n",
    "initial_type = [('feature_input', FloatTensorType([None , number_features]))]\n",
    "onnx = convert_sklearn(model, initial_types=initial_type)\n",
    "with open(\"model.onnx\", \"wb\") as f:\n",
    "    f.write(onnx.SerializeToString())"
   ]
  },
  {
   "cell_type": "code",
   "execution_count": 212,
   "id": "478769d0",
   "metadata": {},
   "outputs": [],
   "source": [
    "import onnxruntime as rt\n",
    "import numpy\n",
    "sess = rt.InferenceSession(\"model.onnx\")"
   ]
  },
  {
   "cell_type": "code",
   "execution_count": 213,
   "id": "1f78997c",
   "metadata": {},
   "outputs": [
    {
     "data": {
      "text/plain": [
       "'feature_input'"
      ]
     },
     "execution_count": 213,
     "metadata": {},
     "output_type": "execute_result"
    }
   ],
   "source": [
    "input_name = sess.get_inputs()[0].name\n",
    "input_name"
   ]
  },
  {
   "cell_type": "code",
   "execution_count": 214,
   "id": "7ef30f58",
   "metadata": {},
   "outputs": [
    {
     "data": {
      "text/plain": [
       "'output_label'"
      ]
     },
     "execution_count": 214,
     "metadata": {},
     "output_type": "execute_result"
    }
   ],
   "source": [
    "label_name = sess.get_outputs()[0].name\n",
    "label_name"
   ]
  },
  {
   "cell_type": "code",
   "execution_count": 215,
   "id": "f0f63029",
   "metadata": {},
   "outputs": [],
   "source": [
    "# pred_onx = sess.run([label_name], {input_name: numpy.array(X_test, dtype=numpy.float32)})[0]\n",
    "pred_onx = sess.run([label_name], {input_name: X_test.values.astype(numpy.float32)})[0]"
   ]
  },
  {
   "cell_type": "code",
   "execution_count": 216,
   "id": "ab5eaa6b",
   "metadata": {},
   "outputs": [
    {
     "data": {
      "text/plain": [
       "array([0, 1, 1, ..., 0, 0, 0], dtype=int64)"
      ]
     },
     "execution_count": 216,
     "metadata": {},
     "output_type": "execute_result"
    }
   ],
   "source": [
    "pred_onx"
   ]
  },
  {
   "cell_type": "code",
   "execution_count": 217,
   "id": "5c0d3764",
   "metadata": {},
   "outputs": [
    {
     "data": {
      "text/plain": [
       "[None]"
      ]
     },
     "execution_count": 217,
     "metadata": {},
     "output_type": "execute_result"
    }
   ],
   "source": [
    "sess.get_outputs()[0].shape"
   ]
  },
  {
   "cell_type": "code",
   "execution_count": 219,
   "id": "a3aec48e",
   "metadata": {},
   "outputs": [
    {
     "data": {
      "text/html": [
       "<div>\n",
       "<style scoped>\n",
       "    .dataframe tbody tr th:only-of-type {\n",
       "        vertical-align: middle;\n",
       "    }\n",
       "\n",
       "    .dataframe tbody tr th {\n",
       "        vertical-align: top;\n",
       "    }\n",
       "\n",
       "    .dataframe thead th {\n",
       "        text-align: right;\n",
       "    }\n",
       "</style>\n",
       "<table border=\"1\" class=\"dataframe\">\n",
       "  <thead>\n",
       "    <tr style=\"text-align: right;\">\n",
       "      <th></th>\n",
       "      <th>StatusCode</th>\n",
       "      <th>Connected</th>\n",
       "      <th>Riso</th>\n",
       "      <th>PerformanceRatio</th>\n",
       "      <th>Temp</th>\n",
       "    </tr>\n",
       "  </thead>\n",
       "  <tbody>\n",
       "    <tr>\n",
       "      <th>75721</th>\n",
       "      <td>-0.022553</td>\n",
       "      <td>1</td>\n",
       "      <td>1</td>\n",
       "      <td>0.817586</td>\n",
       "      <td>0.798267</td>\n",
       "    </tr>\n",
       "    <tr>\n",
       "      <th>80184</th>\n",
       "      <td>-0.923128</td>\n",
       "      <td>1</td>\n",
       "      <td>0</td>\n",
       "      <td>0.423870</td>\n",
       "      <td>0.570652</td>\n",
       "    </tr>\n",
       "    <tr>\n",
       "      <th>19864</th>\n",
       "      <td>1.120485</td>\n",
       "      <td>1</td>\n",
       "      <td>0</td>\n",
       "      <td>0.702358</td>\n",
       "      <td>-0.738138</td>\n",
       "    </tr>\n",
       "    <tr>\n",
       "      <th>76699</th>\n",
       "      <td>-1.563922</td>\n",
       "      <td>0</td>\n",
       "      <td>0</td>\n",
       "      <td>0.685920</td>\n",
       "      <td>0.229228</td>\n",
       "    </tr>\n",
       "    <tr>\n",
       "      <th>92991</th>\n",
       "      <td>-1.408054</td>\n",
       "      <td>0</td>\n",
       "      <td>1</td>\n",
       "      <td>0.093693</td>\n",
       "      <td>1.253499</td>\n",
       "    </tr>\n",
       "    <tr>\n",
       "      <th>...</th>\n",
       "      <td>...</td>\n",
       "      <td>...</td>\n",
       "      <td>...</td>\n",
       "      <td>...</td>\n",
       "      <td>...</td>\n",
       "    </tr>\n",
       "    <tr>\n",
       "      <th>32595</th>\n",
       "      <td>-1.719791</td>\n",
       "      <td>1</td>\n",
       "      <td>1</td>\n",
       "      <td>0.357504</td>\n",
       "      <td>1.481114</td>\n",
       "    </tr>\n",
       "    <tr>\n",
       "      <th>29313</th>\n",
       "      <td>-0.057191</td>\n",
       "      <td>1</td>\n",
       "      <td>0</td>\n",
       "      <td>0.094928</td>\n",
       "      <td>0.286132</td>\n",
       "    </tr>\n",
       "    <tr>\n",
       "      <th>37862</th>\n",
       "      <td>1.085847</td>\n",
       "      <td>0</td>\n",
       "      <td>0</td>\n",
       "      <td>0.554470</td>\n",
       "      <td>1.594922</td>\n",
       "    </tr>\n",
       "    <tr>\n",
       "      <th>53421</th>\n",
       "      <td>1.501498</td>\n",
       "      <td>0</td>\n",
       "      <td>1</td>\n",
       "      <td>0.005284</td>\n",
       "      <td>-1.705505</td>\n",
       "    </tr>\n",
       "    <tr>\n",
       "      <th>42410</th>\n",
       "      <td>1.293673</td>\n",
       "      <td>1</td>\n",
       "      <td>0</td>\n",
       "      <td>0.158136</td>\n",
       "      <td>0.343036</td>\n",
       "    </tr>\n",
       "  </tbody>\n",
       "</table>\n",
       "<p>20000 rows × 5 columns</p>\n",
       "</div>"
      ],
      "text/plain": [
       "       StatusCode  Connected  Riso  PerformanceRatio      Temp\n",
       "75721   -0.022553          1     1          0.817586  0.798267\n",
       "80184   -0.923128          1     0          0.423870  0.570652\n",
       "19864    1.120485          1     0          0.702358 -0.738138\n",
       "76699   -1.563922          0     0          0.685920  0.229228\n",
       "92991   -1.408054          0     1          0.093693  1.253499\n",
       "...           ...        ...   ...               ...       ...\n",
       "32595   -1.719791          1     1          0.357504  1.481114\n",
       "29313   -0.057191          1     0          0.094928  0.286132\n",
       "37862    1.085847          0     0          0.554470  1.594922\n",
       "53421    1.501498          0     1          0.005284 -1.705505\n",
       "42410    1.293673          1     0          0.158136  0.343036\n",
       "\n",
       "[20000 rows x 5 columns]"
      ]
     },
     "execution_count": 219,
     "metadata": {},
     "output_type": "execute_result"
    }
   ],
   "source": [
    "X_test"
   ]
  },
  {
   "cell_type": "code",
   "execution_count": null,
   "id": "745f0455",
   "metadata": {},
   "outputs": [],
   "source": []
  }
 ],
 "metadata": {
  "kernelspec": {
   "display_name": "Python 3 (ipykernel)",
   "language": "python",
   "name": "python3"
  },
  "language_info": {
   "codemirror_mode": {
    "name": "ipython",
    "version": 3
   },
   "file_extension": ".py",
   "mimetype": "text/x-python",
   "name": "python",
   "nbconvert_exporter": "python",
   "pygments_lexer": "ipython3",
   "version": "3.9.7"
  }
 },
 "nbformat": 4,
 "nbformat_minor": 5
}
